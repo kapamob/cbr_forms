{
  "nbformat": 4,
  "nbformat_minor": 0,
  "metadata": {
    "colab": {
      "provenance": [],
      "authorship_tag": "ABX9TyOxYcd00eZtEf2WH8Lja5Mk",
      "include_colab_link": true
    },
    "kernelspec": {
      "name": "python3",
      "display_name": "Python 3"
    },
    "language_info": {
      "name": "python"
    }
  },
  "cells": [
    {
      "cell_type": "markdown",
      "metadata": {
        "id": "view-in-github",
        "colab_type": "text"
      },
      "source": [
        "<a href=\"https://colab.research.google.com/github/kapamob/cbr_forms/blob/main/f123_dbfread_v4.ipynb\" target=\"_parent\"><img src=\"https://colab.research.google.com/assets/colab-badge.svg\" alt=\"Open In Colab\"/></a>"
      ]
    },
    {
      "cell_type": "code",
      "execution_count": null,
      "metadata": {
        "id": "AaU23QoLJV91"
      },
      "outputs": [],
      "source": [
        "# рабочий файл, который ходит на сайт Банка России и выводит на экран топ-20 банков по размеру капитала\n",
        "# run on https://colab.research.google.com/\n",
        "#!pip install rarfile #если ругается: No module named 'rarfile' - раскомментить эту строчку и установить\n",
        "#!pip install dbfread\n",
        "import urllib\n",
        "import rarfile\n",
        "from io import BytesIO\n",
        "from dbfread import DBF, FieldParser, InvalidValue\n",
        "from pandas import DataFrame\n",
        "\n",
        "print('start...')\n",
        "#источник: https://www.cbr.ru/banking_sector/otchetnost-kreditnykh-organizaciy/\n",
        "resp = urllib.request.urlopen('https://www.cbr.ru/vfs/credit/forms/123-20240101.rar')\n",
        "r = rarfile.RarFile(BytesIO(resp.read()))\n",
        "r.namelist()\n",
        "r.extract(\"122023_123D.dbf\")\n",
        "r.extract(\"122023_123B.dbf\")\n",
        "\n",
        "# класс для правильного разбора ф.123\n",
        "# https://github.com/olemb/dbfread/issues/20#issuecomment-490289235\n",
        "class MyFieldParser(FieldParser):\n",
        "    def parseN(self, field, data):\n",
        "        data = data.strip().strip(b'*\\x00')  # Had to strip out the other characters first before \\x00, as per super function specs.\n",
        "        return super(MyFieldParser, self).parseN(field, data)\n",
        "\n",
        "    def parseD(self, field, data):\n",
        "        data = data.strip(b'\\x00')\n",
        "        return super(MyFieldParser, self).parseD(field, data)\n",
        "\n",
        "# Load content of a DBF file into a Pandas data frame\n",
        "dbf = DBF('/content/122023_123D.dbf', parserclass=MyFieldParser)\n",
        "frame = DataFrame(iter(dbf))\n",
        "zero = frame[frame['C1'] == '000'] #создаем фрейм в который загоняем только строку 000 - с итоговым значением капитала\n",
        "\n",
        "# загружаем файл с названиями банков\n",
        "dbf2 = DBF('/content/122023_123B.dbf', parserclass=MyFieldParser, encoding='cp866')\n",
        "frame2 = DataFrame(iter(dbf2))\n",
        "frame3 = frame2[['REGN','NAME_B']]\n",
        "zero=zero.merge(frame3, how = 'left')\n",
        "print(zero.sort_values('C3', ascending=[False]).head(20))"
      ]
    }
  ]
}